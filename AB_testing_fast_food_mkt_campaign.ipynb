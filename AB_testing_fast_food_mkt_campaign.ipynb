{
 "cells": [
  {
   "cell_type": "markdown",
   "id": "3846c526",
   "metadata": {},
   "source": [
    "## A/B Testing\n",
    "\n",
    "A/B testing plays a critical role in decision-making processes across various industries. It is a method of comparing and testing the effectiveness and benefits of two (or more) different business strategies and finding the strategy that works best. Running A/B testing helps businesses save time and money that could have been wasted if the chosen strategy didn't work.\n",
    "\n",
    "In marketing, A/B tests can be used in many areas:\n",
    "\n",
    "- improving email open rates,\n",
    "- advertisements on social media,\n",
    "- product recommendations on your web page,\n",
    "- testing different pictures or descriptions of your product and many more.\n",
    "\n",
    "## About data\n",
    "\n",
    "A fast-food chain plans to add a new item to its menu. However, they are still undecided between three possible marketing campaigns for promoting the new product. In order to determine which promotion has the greatest effect on sales, the new item is introduced at locations in several randomly selected markets. A different promotion is used at each location, and the weekly sales of the new item are recorded for the first four weeks.\n",
    "\n",
    "## Goal\n",
    "\n",
    "Evaluate A/B testing results from this dataset and decide which marketing strategy works the best and has [statistically significant](https://en.wikipedia.org/wiki/Statistical_significance) differences among the test groups.\n",
    "\n",
    "## Data Analysis\n",
    "\n",
    "In this analysis, I'm going to focus on the distribution of different variables of this data set. I need to make sure that the attributes of each promotion group are symmetrically distributed so that the results of this A/B testing are fair and correct. Let's load our libraries and data and check the distribution."
   ]
  },
  {
   "cell_type": "code",
   "execution_count": 1,
   "id": "aaa39bca",
   "metadata": {},
   "outputs": [],
   "source": [
    "import numpy as np\n",
    "import pandas as pd\n",
    "import matplotlib.pyplot as plt\n",
    "import seaborn as sns\n",
    "sns.set_style('whitegrid')\n",
    "%matplotlib inline"
   ]
  },
  {
   "cell_type": "code",
   "execution_count": 3,
   "id": "78fb66fc",
   "metadata": {},
   "outputs": [
    {
     "data": {
      "text/html": [
       "<div>\n",
       "<style scoped>\n",
       "    .dataframe tbody tr th:only-of-type {\n",
       "        vertical-align: middle;\n",
       "    }\n",
       "\n",
       "    .dataframe tbody tr th {\n",
       "        vertical-align: top;\n",
       "    }\n",
       "\n",
       "    .dataframe thead th {\n",
       "        text-align: right;\n",
       "    }\n",
       "</style>\n",
       "<table border=\"1\" class=\"dataframe\">\n",
       "  <thead>\n",
       "    <tr style=\"text-align: right;\">\n",
       "      <th></th>\n",
       "      <th>MarketID</th>\n",
       "      <th>MarketSize</th>\n",
       "      <th>LocationID</th>\n",
       "      <th>AgeOfStore</th>\n",
       "      <th>Promotion</th>\n",
       "      <th>week</th>\n",
       "      <th>SalesInThousands</th>\n",
       "    </tr>\n",
       "  </thead>\n",
       "  <tbody>\n",
       "    <tr>\n",
       "      <th>0</th>\n",
       "      <td>1</td>\n",
       "      <td>Medium</td>\n",
       "      <td>1</td>\n",
       "      <td>4</td>\n",
       "      <td>3</td>\n",
       "      <td>1</td>\n",
       "      <td>33.73</td>\n",
       "    </tr>\n",
       "    <tr>\n",
       "      <th>1</th>\n",
       "      <td>1</td>\n",
       "      <td>Medium</td>\n",
       "      <td>1</td>\n",
       "      <td>4</td>\n",
       "      <td>3</td>\n",
       "      <td>2</td>\n",
       "      <td>35.67</td>\n",
       "    </tr>\n",
       "    <tr>\n",
       "      <th>2</th>\n",
       "      <td>1</td>\n",
       "      <td>Medium</td>\n",
       "      <td>1</td>\n",
       "      <td>4</td>\n",
       "      <td>3</td>\n",
       "      <td>3</td>\n",
       "      <td>29.03</td>\n",
       "    </tr>\n",
       "    <tr>\n",
       "      <th>3</th>\n",
       "      <td>1</td>\n",
       "      <td>Medium</td>\n",
       "      <td>1</td>\n",
       "      <td>4</td>\n",
       "      <td>3</td>\n",
       "      <td>4</td>\n",
       "      <td>39.25</td>\n",
       "    </tr>\n",
       "    <tr>\n",
       "      <th>4</th>\n",
       "      <td>1</td>\n",
       "      <td>Medium</td>\n",
       "      <td>2</td>\n",
       "      <td>5</td>\n",
       "      <td>2</td>\n",
       "      <td>1</td>\n",
       "      <td>27.81</td>\n",
       "    </tr>\n",
       "  </tbody>\n",
       "</table>\n",
       "</div>"
      ],
      "text/plain": [
       "   MarketID MarketSize  LocationID  AgeOfStore  Promotion  week  \\\n",
       "0         1     Medium           1           4          3     1   \n",
       "1         1     Medium           1           4          3     2   \n",
       "2         1     Medium           1           4          3     3   \n",
       "3         1     Medium           1           4          3     4   \n",
       "4         1     Medium           2           5          2     1   \n",
       "\n",
       "   SalesInThousands  \n",
       "0             33.73  \n",
       "1             35.67  \n",
       "2             29.03  \n",
       "3             39.25  \n",
       "4             27.81  "
      ]
     },
     "execution_count": 3,
     "metadata": {},
     "output_type": "execute_result"
    }
   ],
   "source": [
    "fastfood = pd.read_csv('WA_Marketing_Campaign.csv')\n",
    "fastfood.head()"
   ]
  },
  {
   "cell_type": "code",
   "execution_count": 5,
   "id": "92630bb6",
   "metadata": {},
   "outputs": [
    {
     "data": {
      "text/html": [
       "<div>\n",
       "<style scoped>\n",
       "    .dataframe tbody tr th:only-of-type {\n",
       "        vertical-align: middle;\n",
       "    }\n",
       "\n",
       "    .dataframe tbody tr th {\n",
       "        vertical-align: top;\n",
       "    }\n",
       "\n",
       "    .dataframe thead th {\n",
       "        text-align: right;\n",
       "    }\n",
       "</style>\n",
       "<table border=\"1\" class=\"dataframe\">\n",
       "  <thead>\n",
       "    <tr style=\"text-align: right;\">\n",
       "      <th></th>\n",
       "      <th>MarketID</th>\n",
       "      <th>LocationID</th>\n",
       "      <th>AgeOfStore</th>\n",
       "      <th>week</th>\n",
       "      <th>SalesInThousands</th>\n",
       "      <th>Percentage</th>\n",
       "    </tr>\n",
       "    <tr>\n",
       "      <th>Promotion</th>\n",
       "      <th></th>\n",
       "      <th></th>\n",
       "      <th></th>\n",
       "      <th></th>\n",
       "      <th></th>\n",
       "      <th></th>\n",
       "    </tr>\n",
       "  </thead>\n",
       "  <tbody>\n",
       "    <tr>\n",
       "      <th>1</th>\n",
       "      <td>996</td>\n",
       "      <td>84016</td>\n",
       "      <td>1424</td>\n",
       "      <td>430</td>\n",
       "      <td>9993.03</td>\n",
       "      <td>34.106510</td>\n",
       "    </tr>\n",
       "    <tr>\n",
       "      <th>2</th>\n",
       "      <td>1108</td>\n",
       "      <td>93520</td>\n",
       "      <td>1500</td>\n",
       "      <td>470</td>\n",
       "      <td>8897.93</td>\n",
       "      <td>30.368901</td>\n",
       "    </tr>\n",
       "    <tr>\n",
       "      <th>3</th>\n",
       "      <td>1028</td>\n",
       "      <td>85316</td>\n",
       "      <td>1736</td>\n",
       "      <td>470</td>\n",
       "      <td>10408.52</td>\n",
       "      <td>35.524590</td>\n",
       "    </tr>\n",
       "  </tbody>\n",
       "</table>\n",
       "</div>"
      ],
      "text/plain": [
       "           MarketID  LocationID  AgeOfStore  week  SalesInThousands  \\\n",
       "Promotion                                                             \n",
       "1               996       84016        1424   430           9993.03   \n",
       "2              1108       93520        1500   470           8897.93   \n",
       "3              1028       85316        1736   470          10408.52   \n",
       "\n",
       "           Percentage  \n",
       "Promotion              \n",
       "1           34.106510  \n",
       "2           30.368901  \n",
       "3           35.524590  "
      ]
     },
     "execution_count": 5,
     "metadata": {},
     "output_type": "execute_result"
    }
   ],
   "source": [
    "# Grouping data by Promotion\n",
    "salesDist = fastfood.groupby('Promotion').sum('SalesInThousands')\n",
    "salesDist['Percentage'] = salesDist['SalesInThousands']/sum(salesDist['SalesInThousands'])*100\n",
    "\n",
    "salesDist"
   ]
  },
  {
   "cell_type": "code",
   "execution_count": 36,
   "id": "85d6b2b4",
   "metadata": {},
   "outputs": [
    {
     "data": {
      "image/png": "[encoded data removed]",
      "text/plain": [
       "<Figure size 504x504 with 1 Axes>"
      ]
     },
     "metadata": {},
     "output_type": "display_data"
    }
   ],
   "source": [
    "# Visualizing data\n",
    "sns.set(rc={\"figure.figsize\":(7, 7)})\n",
    "palette = sns.color_palette('viridis')\n",
    "\n",
    "_, _, autotexts = plt.pie(salesDist['Percentage']\n",
    "                            , labels = ['Promotion 1','Promotion 2','Promotion 3']\n",
    "                            , colors = palette\n",
    "                            , autopct='%1.1f%%')\n",
    "\n",
    "for ins in autotexts: \n",
    "    ins.set_color('white')\n",
    "\n",
    "plt.title(\"Sales distribution across different promotions, in percentages\", fontsize=15)\n",
    "plt.show()"
   ]
  },
  {
   "cell_type": "markdown",
   "id": "2c89642b",
   "metadata": {},
   "source": [
    "As we can see from this chart, the promotion group 3 has the largest aggregate sales amount (36%). However, each promotion group takes roughly one third of the total sales during the promotion weeks.\n",
    "\n",
    "Let's look at the market sizes in each promotion group."
   ]
  },
  {
   "cell_type": "code",
   "execution_count": 39,
   "id": "e817360f",
   "metadata": {},
   "outputs": [
    {
     "data": {
      "text/html": [
       "<div>\n",
       "<style scoped>\n",
       "    .dataframe tbody tr th:only-of-type {\n",
       "        vertical-align: middle;\n",
       "    }\n",
       "\n",
       "    .dataframe tbody tr th {\n",
       "        vertical-align: top;\n",
       "    }\n",
       "\n",
       "    .dataframe thead th {\n",
       "        text-align: right;\n",
       "    }\n",
       "</style>\n",
       "<table border=\"1\" class=\"dataframe\">\n",
       "  <thead>\n",
       "    <tr style=\"text-align: right;\">\n",
       "      <th>MarketSize</th>\n",
       "      <th>Large</th>\n",
       "      <th>Medium</th>\n",
       "      <th>Small</th>\n",
       "    </tr>\n",
       "    <tr>\n",
       "      <th>Promotion</th>\n",
       "      <th></th>\n",
       "      <th></th>\n",
       "      <th></th>\n",
       "    </tr>\n",
       "  </thead>\n",
       "  <tbody>\n",
       "    <tr>\n",
       "      <th>1</th>\n",
       "      <td>56</td>\n",
       "      <td>96</td>\n",
       "      <td>20</td>\n",
       "    </tr>\n",
       "    <tr>\n",
       "      <th>2</th>\n",
       "      <td>64</td>\n",
       "      <td>108</td>\n",
       "      <td>16</td>\n",
       "    </tr>\n",
       "    <tr>\n",
       "      <th>3</th>\n",
       "      <td>48</td>\n",
       "      <td>116</td>\n",
       "      <td>24</td>\n",
       "    </tr>\n",
       "  </tbody>\n",
       "</table>\n",
       "</div>"
      ],
      "text/plain": [
       "MarketSize  Large  Medium  Small\n",
       "Promotion                       \n",
       "1              56      96     20\n",
       "2              64     108     16\n",
       "3              48     116     24"
      ]
     },
     "execution_count": 39,
     "metadata": {},
     "output_type": "execute_result"
    }
   ],
   "source": [
    "marketSize = fastfood.groupby(['Promotion','MarketSize']).count()\n",
    "marketSize"
   ]
  },
  {
   "cell_type": "code",
   "execution_count": 49,
   "id": "189a56ea",
   "metadata": {},
   "outputs": [
    {
     "data": {
      "image/png": "[encoded data removed]",
      "text/plain": [
       "<Figure size 504x504 with 1 Axes>"
      ]
     },
     "metadata": {},
     "output_type": "display_data"
    }
   ],
   "source": [
    "sns.set(rc={\"figure.figsize\":(7, 7)})\n",
    "palette = sns.color_palette('viridis')\n",
    "\n",
    "# Ploting with stacked true and the unstack version of marketSize df\n",
    "marketSize.unstack(level=-1)['MarketID'].plot(kind='bar'\n",
    "                                              , stacked=True\n",
    "                                              , color=palette)\n",
    "\n",
    "\n",
    "# labels for x & y axis, and legend\n",
    "plt.xlabel('Promotion')\n",
    "plt.ylabel('Count')\n",
    "plt.legend(loc='center left', bbox_to_anchor=(1, 0.5))\n",
    " \n",
    "# title of plot\n",
    "plt.title('Market sizes across different promotions', fontsize=15)\n",
    "plt.show()"
   ]
  },
  {
   "cell_type": "markdown",
   "id": "c6d481d0",
   "metadata": {},
   "source": [
    "Here we see that the medium market size occupies the most among all three promotion groups, while the small market size occupies the least.\n",
    "\n",
    "Now I'm going to explore the AgeOfStore column:"
   ]
  },
  {
   "cell_type": "code",
   "execution_count": 57,
   "id": "e908b530",
   "metadata": {},
   "outputs": [
    {
     "data": {
      "image/png": "[encoded data removed]",
      "text/plain": [
       "<Figure size 720x504 with 1 Axes>"
      ]
     },
     "metadata": {},
     "output_type": "display_data"
    }
   ],
   "source": [
    "sns.set(rc={\"figure.figsize\":(10, 7)})\n",
    "fastfood.groupby('AgeOfStore').count()['MarketID'].plot(kind='bar', color='rebeccapurple')\n",
    "\n",
    "# labels for x & y axis, and legend\n",
    "plt.xlabel('Store Age')\n",
    "plt.ylabel('Count')\n",
    " \n",
    "# title of plot\n",
    "plt.title('Store Age Distribution', fontsize=15)\n",
    "plt.show()"
   ]
  },
  {
   "cell_type": "markdown",
   "id": "e93bbfc4",
   "metadata": {},
   "source": [
    "The majority of stores are 10 years old or less. A large number of stores are 1 year old. Let's look at the age of stores in different promotion groups."
   ]
  },
  {
   "cell_type": "code",
   "execution_count": 62,
   "id": "a3c0f1f3",
   "metadata": {},
   "outputs": [
    {
     "data": {
      "text/html": [
       "<div>\n",
       "<style scoped>\n",
       "    .dataframe tbody tr th:only-of-type {\n",
       "        vertical-align: middle;\n",
       "    }\n",
       "\n",
       "    .dataframe tbody tr th {\n",
       "        vertical-align: top;\n",
       "    }\n",
       "\n",
       "    .dataframe thead th {\n",
       "        text-align: right;\n",
       "    }\n",
       "</style>\n",
       "<table border=\"1\" class=\"dataframe\">\n",
       "  <thead>\n",
       "    <tr style=\"text-align: right;\">\n",
       "      <th></th>\n",
       "      <th>count</th>\n",
       "      <th>mean</th>\n",
       "      <th>std</th>\n",
       "      <th>min</th>\n",
       "      <th>25%</th>\n",
       "      <th>50%</th>\n",
       "      <th>75%</th>\n",
       "      <th>max</th>\n",
       "    </tr>\n",
       "    <tr>\n",
       "      <th>Promotion</th>\n",
       "      <th></th>\n",
       "      <th></th>\n",
       "      <th></th>\n",
       "      <th></th>\n",
       "      <th></th>\n",
       "      <th></th>\n",
       "      <th></th>\n",
       "      <th></th>\n",
       "    </tr>\n",
       "  </thead>\n",
       "  <tbody>\n",
       "    <tr>\n",
       "      <th>1</th>\n",
       "      <td>172.0</td>\n",
       "      <td>8.279070</td>\n",
       "      <td>6.636160</td>\n",
       "      <td>1.0</td>\n",
       "      <td>3.0</td>\n",
       "      <td>6.0</td>\n",
       "      <td>12.0</td>\n",
       "      <td>27.0</td>\n",
       "    </tr>\n",
       "    <tr>\n",
       "      <th>2</th>\n",
       "      <td>188.0</td>\n",
       "      <td>7.978723</td>\n",
       "      <td>6.597648</td>\n",
       "      <td>1.0</td>\n",
       "      <td>3.0</td>\n",
       "      <td>7.0</td>\n",
       "      <td>10.0</td>\n",
       "      <td>28.0</td>\n",
       "    </tr>\n",
       "    <tr>\n",
       "      <th>3</th>\n",
       "      <td>188.0</td>\n",
       "      <td>9.234043</td>\n",
       "      <td>6.651646</td>\n",
       "      <td>1.0</td>\n",
       "      <td>5.0</td>\n",
       "      <td>8.0</td>\n",
       "      <td>12.0</td>\n",
       "      <td>24.0</td>\n",
       "    </tr>\n",
       "  </tbody>\n",
       "</table>\n",
       "</div>"
      ],
      "text/plain": [
       "           count      mean       std  min  25%  50%   75%   max\n",
       "Promotion                                                      \n",
       "1          172.0  8.279070  6.636160  1.0  3.0  6.0  12.0  27.0\n",
       "2          188.0  7.978723  6.597648  1.0  3.0  7.0  10.0  28.0\n",
       "3          188.0  9.234043  6.651646  1.0  5.0  8.0  12.0  24.0"
      ]
     },
     "execution_count": 62,
     "metadata": {},
     "output_type": "execute_result"
    }
   ],
   "source": [
    "fastfood.groupby('Promotion')['AgeOfStore'].describe()"
   ]
  },
  {
   "cell_type": "markdown",
   "id": "adf50ae0",
   "metadata": {},
   "source": [
    "We see that all three groups seem to have store age profiles. The average ages (Mean) of stores for the three groups are 8-9 years old and the majority of the stores are 10-12 years old or younger.\n",
    "\n",
    "After exploring the distribution of the variables in the three promotion groups, I can verify that the sample groups are similar and the A/B testing results will be meaningful and trustworthy."
   ]
  },
  {
   "cell_type": "markdown",
   "id": "13e76a37",
   "metadata": {},
   "source": [
    "#### Hypothesis testing\n",
    "\n",
    "As I mentioned before, it's important to test your hypothesis and seek statistically significant differences among test groups when you run A/b tests. T-test is frequently used for that. The t-test compares the two averages and examines whether they are significantly different from each other.\n",
    "\n",
    "There are two important statistics in a t-test - the t-value and p-value. The t-value measures the degree of difference relative to the variation in the data. The larger the t-value is, the more difference there is between two testing groups. P-value measures the probability that the result would occur by chance. So the smaller the p-value is, the more statistically significant difference there is between two testing groups.\n",
    "\n",
    "There is a concept of the null hypothesis and the alternate hypothesis. The null hypothesis states that the two groups show no statistically significant difference. The alternte hypothesis states the two groups shows a statistically significant difference.\n",
    "\n",
    "##### Computing the t-value and p-value from the equations\n",
    "There are three things we need to compute to ger the t-value: the mean, the standard deviation, and the number of samples."
   ]
  },
  {
   "cell_type": "code",
   "execution_count": 66,
   "id": "af018e42",
   "metadata": {},
   "outputs": [],
   "source": [
    "promo1 = fastfood[fastfood['Promotion']==1]['SalesInThousands']\n",
    "promo2 = fastfood[fastfood['Promotion']==2]['SalesInThousands']\n",
    "promo3 = fastfood[fastfood['Promotion']==3]['SalesInThousands']"
   ]
  },
  {
   "cell_type": "code",
   "execution_count": 90,
   "id": "303f3a97",
   "metadata": {},
   "outputs": [
    {
     "name": "stdout",
     "output_type": "stream",
     "text": [
      "Ttest_indResult(statistic=6.453671702181005, pvalue=3.5506696512134566e-10)\n"
     ]
    }
   ],
   "source": [
    "import numpy as np\n",
    "from scipy.stats import ttest_ind\n",
    "\n",
    "res = ttest_ind(promo1.array, promo2.array)\n",
    "\n",
    "print(res)"
   ]
  },
  {
   "cell_type": "markdown",
   "id": "39f69091",
   "metadata": {},
   "source": [
    "We got the t-value of 6.4536 and p-value of 3.5506e-10 (which is an extremely small number) that suggest that there is strong evidence against the null hypothesis and that the difference between promotion 1 and promotion 2 is significant and promotion 1 outperform promotion 2."
   ]
  },
  {
   "cell_type": "code",
   "execution_count": 91,
   "id": "dbb14bb7",
   "metadata": {},
   "outputs": [
    {
     "name": "stdout",
     "output_type": "stream",
     "text": [
      "Ttest_indResult(statistic=1.5551383687293547, pvalue=0.12079667272313273)\n"
     ]
    }
   ],
   "source": [
    "res = ttest_ind(promo1.array, promo3.array)\n",
    "\n",
    "print(res)"
   ]
  },
  {
   "cell_type": "markdown",
   "id": "18c62acb",
   "metadata": {},
   "source": [
    "Here we got the t-value of 1.5551 and the p-value of 0.1207 (which is much higher than 0.05). This result suggests that there is no statistically significant difference between promotion groups 1 and 3 even though the average sales from promotion group 1 (58.1) is higher than in group 3 (55.36).\n",
    "\n",
    "From this evaluation, I can say that promotion 1 and promotion 3 perform better than promotion 2, but the difference between promotion 1 and promotion 3 is not statistically significant. So the company can use both 1 and 2 marketing strategies for their fast-food retail chain."
   ]
  },
  {
   "cell_type": "markdown",
   "id": "e616b8a4",
   "metadata": {},
   "source": [
    "#### Summary\n",
    "A/B testing is a powerful technique that businesses can use to evaluate new ideas and marketing strategies before fully committing to one or another. In this analysis, I found that the company should use promotion strategies 1 or 2 to maximize their sales."
   ]
  }
 ],
 "metadata": {
  "kernelspec": {
   "display_name": "Python 3 (ipykernel)",
   "language": "python",
   "name": "python3"
  },
  "language_info": {
   "codemirror_mode": {
    "name": "ipython",
    "version": 3
   },
   "file_extension": ".py",
   "mimetype": "text/x-python",
   "name": "python",
   "nbconvert_exporter": "python",
   "pygments_lexer": "ipython3",
   "version": "3.9.12"
  }
 },
 "nbformat": 4,
 "nbformat_minor": 5
}
